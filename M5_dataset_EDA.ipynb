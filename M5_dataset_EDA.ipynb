{
 "cells": [
  {
   "cell_type": "code",
   "execution_count": 1,
   "id": "6cd95125",
   "metadata": {},
   "outputs": [],
   "source": [
    "import sys\n",
    "\n",
    "sys.path.append('../GTS/GTS')"
   ]
  },
  {
   "cell_type": "code",
   "execution_count": 3,
   "id": "4fe87367",
   "metadata": {},
   "outputs": [],
   "source": [
    "import torch\n",
    "import numpy as np\n",
    "import pandas as pd\n",
    "import os\n",
    "import time\n",
    "from glob import glob\n",
    "from itertools import cycle"
   ]
  },
  {
   "cell_type": "code",
   "execution_count": 4,
   "id": "5c193b7a",
   "metadata": {},
   "outputs": [],
   "source": [
    "dirs = '/Users/juhyeonkim/Documents/graphNN/M5_Dataset'"
   ]
  },
  {
   "cell_type": "code",
   "execution_count": 66,
   "id": "3d27abf5",
   "metadata": {},
   "outputs": [],
   "source": [
    "INPUT_DIR = dirs\n",
    "\n",
    "calendar = pd.read_csv(f'{INPUT_DIR}/calendar.csv')\n",
    "calendar.name = 'calendar'\n",
    "\n",
    "prices = pd.read_csv(f'{INPUT_DIR}/sell_prices.csv')\n",
    "prices.name = 'prices'\n",
    "\n",
    "sales = pd.read_csv(f'{INPUT_DIR}/sales_train_evaluation.csv')\n",
    "sales.name = 'sales'"
   ]
  },
  {
   "cell_type": "code",
   "execution_count": null,
   "id": "57136418",
   "metadata": {},
   "outputs": [
    {
     "name": "stderr",
     "output_type": "stream",
     "text": [
      "<ipython-input-67-02f8d3558dac>:21: DeprecationWarning: `np.object` is a deprecated alias for the builtin `object`. To silence this warning, use `object` by itself. Doing this will not modify any behavior and is safe. \n",
      "Deprecated in NumPy 1.20; for more details and guidance: https://numpy.org/devdocs/release/1.20.0-notes.html#deprecations\n",
      "  elif t == np.object:\n"
     ]
    }
   ],
   "source": [
    "def downcast(df):\n",
    "    cols = df.dtypes.index.tolist()\n",
    "    types = df.dtypes.values.tolist()\n",
    "    for i,t in enumerate(types):\n",
    "        if 'int' in str(t):\n",
    "            if df[cols[i]].min() > np.iinfo(np.int8).min and df[cols[i]].max() < np.iinfo(np.int8).max:\n",
    "                df[cols[i]] = df[cols[i]].astype(np.int8)\n",
    "            elif df[cols[i]].min() > np.iinfo(np.int16).min and df[cols[i]].max() < np.iinfo(np.int16).max:\n",
    "                df[cols[i]] = df[cols[i]].astype(np.int16)\n",
    "            elif df[cols[i]].min() > np.iinfo(np.int32).min and df[cols[i]].max() < np.iinfo(np.int32).max:\n",
    "                df[cols[i]] = df[cols[i]].astype(np.int32)\n",
    "            else:\n",
    "                df[cols[i]] = df[cols[i]].astype(np.int64)\n",
    "        elif 'float' in str(t):\n",
    "            if df[cols[i]].min() > np.finfo(np.float16).min and df[cols[i]].max() < np.finfo(np.float16).max:\n",
    "                df[cols[i]] = df[cols[i]].astype(np.float16)\n",
    "            elif df[cols[i]].min() > np.finfo(np.float32).min and df[cols[i]].max() < np.finfo(np.float32).max:\n",
    "                df[cols[i]] = df[cols[i]].astype(np.float32)\n",
    "            else:\n",
    "                df[cols[i]] = df[cols[i]].astype(np.float64)\n",
    "        elif t == np.object:\n",
    "            if cols[i] == 'date':\n",
    "                df[cols[i]] = pd.to_datetime(df[cols[i]], format='%Y-%m-%d')\n",
    "            else:\n",
    "                df[cols[i]] = df[cols[i]].astype('category')\n",
    "    return df  \n",
    "\n",
    "sales = downcast(sales)\n",
    "prices = downcast(prices)\n",
    "calendar = downcast(calendar)"
   ]
  },
  {
   "cell_type": "code",
   "execution_count": null,
   "id": "0143cb46",
   "metadata": {},
   "outputs": [],
   "source": [
    "calendar"
   ]
  },
  {
   "cell_type": "code",
   "execution_count": null,
   "id": "7183a04d",
   "metadata": {},
   "outputs": [],
   "source": [
    "prices.head()"
   ]
  },
  {
   "cell_type": "code",
   "execution_count": null,
   "id": "ebd0a282",
   "metadata": {},
   "outputs": [],
   "source": [
    "sales.head()"
   ]
  },
  {
   "cell_type": "code",
   "execution_count": null,
   "id": "caa659ce",
   "metadata": {},
   "outputs": [],
   "source": [
    "len(sales)"
   ]
  },
  {
   "cell_type": "code",
   "execution_count": null,
   "id": "6853bcd7",
   "metadata": {},
   "outputs": [],
   "source": [
    "hobby_1 = sales[sales.dept_id == 'HOBBIES_1']"
   ]
  },
  {
   "cell_type": "code",
   "execution_count": null,
   "id": "178139ce",
   "metadata": {},
   "outputs": [],
   "source": [
    "hobby_1"
   ]
  },
  {
   "cell_type": "code",
   "execution_count": null,
   "id": "8975df67",
   "metadata": {},
   "outputs": [],
   "source": [
    "sales.groupby(sales['dept_id']).mean()"
   ]
  },
  {
   "cell_type": "code",
   "execution_count": null,
   "id": "605ee664",
   "metadata": {},
   "outputs": [],
   "source": [
    "sales.groupby(sales['store_id']).mean()"
   ]
  },
  {
   "cell_type": "code",
   "execution_count": null,
   "id": "b646b23a",
   "metadata": {},
   "outputs": [],
   "source": [
    "sales.groupby(['store_id', 'dept_id']).mean()"
   ]
  },
  {
   "cell_type": "code",
   "execution_count": null,
   "id": "2d313dd6",
   "metadata": {},
   "outputs": [],
   "source": [
    "level9 = sales.groupby(['store_id', 'dept_id']).mean()"
   ]
  },
  {
   "cell_type": "code",
   "execution_count": null,
   "id": "76841aae",
   "metadata": {},
   "outputs": [],
   "source": []
  }
 ],
 "metadata": {
  "kernelspec": {
   "display_name": "Python 3",
   "language": "python",
   "name": "python3"
  },
  "language_info": {
   "codemirror_mode": {
    "name": "ipython",
    "version": 3
   },
   "file_extension": ".py",
   "mimetype": "text/x-python",
   "name": "python",
   "nbconvert_exporter": "python",
   "pygments_lexer": "ipython3",
   "version": "3.8.10"
  }
 },
 "nbformat": 4,
 "nbformat_minor": 5
}
