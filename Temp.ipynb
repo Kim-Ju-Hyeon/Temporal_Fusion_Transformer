{
 "cells": [
  {
   "cell_type": "code",
   "execution_count": 2,
   "id": "8690f57b",
   "metadata": {},
   "outputs": [],
   "source": [
    "import torch\n",
    "from torch import nn as nn"
   ]
  },
  {
   "cell_type": "code",
   "execution_count": 3,
   "id": "2b52d1c4",
   "metadata": {},
   "outputs": [],
   "source": [
    "a = torch.rand((90,128,8))"
   ]
  },
  {
   "cell_type": "code",
   "execution_count": 4,
   "id": "0a958598",
   "metadata": {},
   "outputs": [],
   "source": [
    "fc = nn.Linear(8, 4*10, bias=False)"
   ]
  },
  {
   "cell_type": "code",
   "execution_count": 5,
   "id": "1f1ce08e",
   "metadata": {},
   "outputs": [
    {
     "data": {
      "text/plain": [
       "Linear(in_features=8, out_features=40, bias=False)"
      ]
     },
     "execution_count": 5,
     "metadata": {},
     "output_type": "execute_result"
    }
   ],
   "source": [
    "fc"
   ]
  },
  {
   "cell_type": "code",
   "execution_count": 6,
   "id": "66397e45",
   "metadata": {},
   "outputs": [],
   "source": [
    "x = fc(a)"
   ]
  },
  {
   "cell_type": "code",
   "execution_count": 7,
   "id": "aa7c05af",
   "metadata": {},
   "outputs": [
    {
     "data": {
      "text/plain": [
       "torch.Size([90, 128, 40])"
      ]
     },
     "execution_count": 7,
     "metadata": {},
     "output_type": "execute_result"
    }
   ],
   "source": [
    "x.shape"
   ]
  },
  {
   "cell_type": "code",
   "execution_count": 8,
   "id": "ea5f1811",
   "metadata": {},
   "outputs": [],
   "source": [
    "head_shape = a.shape[:-1]"
   ]
  },
  {
   "cell_type": "code",
   "execution_count": 9,
   "id": "20e39f9b",
   "metadata": {},
   "outputs": [
    {
     "data": {
      "text/plain": [
       "torch.Size([90, 128])"
      ]
     },
     "execution_count": 9,
     "metadata": {},
     "output_type": "execute_result"
    }
   ],
   "source": [
    "head_shape"
   ]
  },
  {
   "cell_type": "code",
   "execution_count": 10,
   "id": "fda53056",
   "metadata": {},
   "outputs": [],
   "source": [
    "x_1 = x.view(*head_shape, 4, 10)"
   ]
  },
  {
   "cell_type": "code",
   "execution_count": 11,
   "id": "27f03a8e",
   "metadata": {},
   "outputs": [
    {
     "data": {
      "text/plain": [
       "torch.Size([90, 128, 4, 10])"
      ]
     },
     "execution_count": 11,
     "metadata": {},
     "output_type": "execute_result"
    }
   ],
   "source": [
    "x_1.shape"
   ]
  },
  {
   "cell_type": "code",
   "execution_count": 12,
   "id": "096791b1",
   "metadata": {},
   "outputs": [
    {
     "data": {
      "text/plain": [
       "8"
      ]
     },
     "execution_count": 12,
     "metadata": {},
     "output_type": "execute_result"
    }
   ],
   "source": [
    "a.shape[-1]"
   ]
  },
  {
   "cell_type": "code",
   "execution_count": 22,
   "id": "d461e320",
   "metadata": {},
   "outputs": [],
   "source": [
    "attend_step = torch.arange(10)"
   ]
  },
  {
   "cell_type": "code",
   "execution_count": 23,
   "id": "7c1e16f4",
   "metadata": {},
   "outputs": [],
   "source": [
    "predict_step = torch.arange(0,10)[:, None]"
   ]
  },
  {
   "cell_type": "code",
   "execution_count": 26,
   "id": "b23bbbfd",
   "metadata": {},
   "outputs": [],
   "source": [
    "decoder_mask = attend_step >= predict_step"
   ]
  },
  {
   "cell_type": "code",
   "execution_count": 27,
   "id": "e3b43033",
   "metadata": {},
   "outputs": [
    {
     "data": {
      "text/plain": [
       "torch.Size([10, 10])"
      ]
     },
     "execution_count": 27,
     "metadata": {},
     "output_type": "execute_result"
    }
   ],
   "source": [
    "decoder_mask.shape"
   ]
  },
  {
   "cell_type": "code",
   "execution_count": 28,
   "id": "ded6be9e",
   "metadata": {},
   "outputs": [
    {
     "data": {
      "text/plain": [
       "tensor([[ True,  True,  True,  True,  True,  True,  True,  True,  True,  True],\n",
       "        [False,  True,  True,  True,  True,  True,  True,  True,  True,  True],\n",
       "        [False, False,  True,  True,  True,  True,  True,  True,  True,  True],\n",
       "        [False, False, False,  True,  True,  True,  True,  True,  True,  True],\n",
       "        [False, False, False, False,  True,  True,  True,  True,  True,  True],\n",
       "        [False, False, False, False, False,  True,  True,  True,  True,  True],\n",
       "        [False, False, False, False, False, False,  True,  True,  True,  True],\n",
       "        [False, False, False, False, False, False, False,  True,  True,  True],\n",
       "        [False, False, False, False, False, False, False, False,  True,  True],\n",
       "        [False, False, False, False, False, False, False, False, False,  True]])"
      ]
     },
     "execution_count": 28,
     "metadata": {},
     "output_type": "execute_result"
    }
   ],
   "source": [
    "decoder_mask"
   ]
  },
  {
   "cell_type": "code",
   "execution_count": 33,
   "id": "41dfcfac",
   "metadata": {},
   "outputs": [],
   "source": [
    "from pytorch_forecasting.utils import create_mask"
   ]
  },
  {
   "cell_type": "code",
   "execution_count": 36,
   "id": "ba145ef7",
   "metadata": {},
   "outputs": [],
   "source": [
    "encoder_mask = create_mask(90, torch.arange(90))"
   ]
  },
  {
   "cell_type": "code",
   "execution_count": 38,
   "id": "d3b9e332",
   "metadata": {},
   "outputs": [
    {
     "data": {
      "text/plain": [
       "torch.Size([90, 90])"
      ]
     },
     "execution_count": 38,
     "metadata": {},
     "output_type": "execute_result"
    }
   ],
   "source": [
    "encoder_mask.shape"
   ]
  },
  {
   "cell_type": "code",
   "execution_count": 47,
   "id": "6ba3ad56",
   "metadata": {},
   "outputs": [
    {
     "data": {
      "text/plain": [
       "torch.Size([90, 1, 90])"
      ]
     },
     "execution_count": 47,
     "metadata": {},
     "output_type": "execute_result"
    }
   ],
   "source": [
    "encoder_mask.unsqueeze(1).shape"
   ]
  },
  {
   "cell_type": "code",
   "execution_count": 40,
   "id": "2036d1b8",
   "metadata": {},
   "outputs": [
    {
     "data": {
      "text/plain": [
       "torch.Size([90, 10, 90])"
      ]
     },
     "execution_count": 40,
     "metadata": {},
     "output_type": "execute_result"
    }
   ],
   "source": [
    "encoder_mask.unsqueeze(1).expand(-1, 10, -1).shape"
   ]
  },
  {
   "cell_type": "code",
   "execution_count": 42,
   "id": "ecf6d8c6",
   "metadata": {},
   "outputs": [
    {
     "data": {
      "text/plain": [
       "torch.Size([90, 10, 10])"
      ]
     },
     "execution_count": 42,
     "metadata": {},
     "output_type": "execute_result"
    }
   ],
   "source": [
    "decoder_mask.unsqueeze(0).expand(torch.arange(90).size(0), -1, -1).shape"
   ]
  },
  {
   "cell_type": "code",
   "execution_count": 44,
   "id": "b43aa9f6",
   "metadata": {},
   "outputs": [],
   "source": [
    "mask = torch.cat((encoder_mask.unsqueeze(1).expand(-1, 10, -1)\n",
    "           , decoder_mask.unsqueeze(0).expand(torch.arange(90).size(0), -1, -1)), dim=2)"
   ]
  },
  {
   "cell_type": "code",
   "execution_count": 45,
   "id": "fcb7c7f8",
   "metadata": {},
   "outputs": [
    {
     "data": {
      "text/plain": [
       "torch.Size([90, 10, 100])"
      ]
     },
     "execution_count": 45,
     "metadata": {},
     "output_type": "execute_result"
    }
   ],
   "source": [
    "mask.shape"
   ]
  },
  {
   "cell_type": "code",
   "execution_count": null,
   "id": "279c5b29",
   "metadata": {},
   "outputs": [],
   "source": []
  }
 ],
 "metadata": {
  "kernelspec": {
   "display_name": "Python 3",
   "language": "python",
   "name": "python3"
  },
  "language_info": {
   "codemirror_mode": {
    "name": "ipython",
    "version": 3
   },
   "file_extension": ".py",
   "mimetype": "text/x-python",
   "name": "python",
   "nbconvert_exporter": "python",
   "pygments_lexer": "ipython3",
   "version": "3.8.10"
  }
 },
 "nbformat": 4,
 "nbformat_minor": 5
}
