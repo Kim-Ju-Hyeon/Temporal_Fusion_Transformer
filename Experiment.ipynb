{
 "cells": [
  {
   "cell_type": "code",
   "execution_count": 4,
   "id": "104c2024",
   "metadata": {},
   "outputs": [],
   "source": [
    "import copy\n",
    "from pathlib import Path\n",
    "import warnings\n",
    "from typing import Dict, List, Tuple, Union\n",
    "\n",
    "import torch\n",
    "import numpy as np\n",
    "import pandas as pd\n",
    "from glob import glob\n",
    "import matplotlib.pyplot as plt\n",
    "\n",
    "import pytorch_lightning as pl\n",
    "from pytorch_lightning.callbacks import EarlyStopping, LearningRateMonitor\n",
    "from pytorch_lightning.loggers import TensorBoardLogger\n",
    "\n",
    "from pytorch_forecasting import Baseline, TemporalFusionTransformer, TimeSeriesDataSet\n",
    "from pytorch_forecasting.data import GroupNormalizer\n",
    "from pytorch_forecasting.metrics import SMAPE, PoissonLoss, QuantileLoss\n",
    "from pytorch_forecasting.models.temporal_fusion_transformer.tuning import optimize_hyperparameters"
   ]
  },
  {
   "cell_type": "markdown",
   "id": "8c7bcffa",
   "metadata": {},
   "source": [
    "# Test Dataset"
   ]
  },
  {
   "cell_type": "code",
   "execution_count": 5,
   "id": "61756841",
   "metadata": {},
   "outputs": [],
   "source": [
    "data = pd.read_pickle('../M5_Dataset/tft_dataset.pkl')\n",
    "data[\"month\"] = data[\"month\"].astype(str).astype(\"category\")\n",
    "\n",
    "special_days = ['event_name_1', 'event_type_1', 'event_name_2', 'event_type_2']\n",
    "snap_days = ['snap_CA', 'snap_TX', 'snap_WI']\n",
    "\n",
    "data[snap_days] = data[snap_days].astype(str).astype(\"category\")\n",
    "\n",
    "train_dataset = data[data.d < 1912]\n",
    "test_dataset = data[data.d >= 1912]\n",
    "\n",
    "max_prediction_length = 30\n",
    "max_encoder_length = 90\n",
    "training_cutoff = train_dataset[\"d\"].max() - max_prediction_length\n",
    "\n",
    "test_encoder = train_dataset[lambda x: x.d > x.d.max() - max_encoder_length]\n",
    "test_dataset = pd.concat([test_encoder, test_dataset], ignore_index=True)\n",
    "test_cutoff = test_dataset[\"d\"].max() - max_prediction_length"
   ]
  },
  {
   "cell_type": "code",
   "execution_count": 6,
   "id": "0ab7a4a9",
   "metadata": {},
   "outputs": [],
   "source": [
    "train_dataset = TimeSeriesDataSet(\n",
    "    train_dataset[lambda x: x.d <= training_cutoff],\n",
    "    time_idx=\"d\",\n",
    "    target=\"sold\",\n",
    "    group_ids=[\"Node\"],\n",
    "    min_encoder_length=max_encoder_length // 2,  # keep encoder length long (as it is in the validation set)\n",
    "    max_encoder_length=max_encoder_length,\n",
    "    min_prediction_length=1,\n",
    "    max_prediction_length=max_prediction_length,\n",
    "    static_categoricals=[\"Node\", \"store_id\", \"dept_id\", \"state_id\", 'cat_id'],\n",
    "    time_varying_known_categoricals=[\"special_days\", \"month\", \"snap_days\"],\n",
    "    variable_groups={\"special_days\": special_days, \"snap_days\": snap_days},  # group of categorical variables can be treated as one variable\n",
    "    time_varying_known_reals=[\"d\"],\n",
    "    time_varying_unknown_categoricals=[],\n",
    "    time_varying_unknown_reals=[\"sold\"],\n",
    "\n",
    "    add_relative_time_idx=True,\n",
    "    add_target_scales=True,\n",
    "    add_encoder_length=True\n",
    ")\n",
    "\n",
    "test_dataset = TimeSeriesDataSet(\n",
    "    test_dataset[lambda x: x.d <= test_cutoff],\n",
    "    time_idx=\"d\",\n",
    "    target=\"sold\",\n",
    "    group_ids=[\"Node\"],\n",
    "    min_encoder_length=max_encoder_length // 2,  # keep encoder length long (as it is in the validation set)\n",
    "    max_encoder_length=max_encoder_length,\n",
    "    min_prediction_length=1,\n",
    "    max_prediction_length=max_prediction_length,\n",
    "    static_categoricals=[\"Node\", \"store_id\", \"dept_id\", \"state_id\", 'cat_id'],\n",
    "    time_varying_known_categoricals=[\"special_days\", \"month\", \"snap_days\"],\n",
    "    variable_groups={\"special_days\": special_days, \"snap_days\": snap_days},  # group of categorical variables can be treated as one variable\n",
    "    time_varying_known_reals=[\"d\"],\n",
    "    time_varying_unknown_categoricals=[],\n",
    "    time_varying_unknown_reals=[\"sold\"],\n",
    "\n",
    "    add_relative_time_idx=True,\n",
    "    add_target_scales=True,\n",
    "    add_encoder_length=True\n",
    ")"
   ]
  },
  {
   "cell_type": "markdown",
   "id": "1b596cca",
   "metadata": {},
   "source": [
    "# Test models"
   ]
  },
  {
   "cell_type": "code",
   "execution_count": 7,
   "id": "c4e3ef97",
   "metadata": {},
   "outputs": [
    {
     "data": {
      "text/plain": [
       "['lightning_logs/default/version_2/',\n",
       " 'lightning_logs/default/version_5/',\n",
       " 'lightning_logs/default/version_6/']"
      ]
     },
     "execution_count": 7,
     "metadata": {},
     "output_type": "execute_result"
    }
   ],
   "source": [
    "dirs = glob('lightning_logs/default/version_*/')\n",
    "dirs.sort()\n",
    "dirs"
   ]
  },
  {
   "cell_type": "code",
   "execution_count": 21,
   "id": "a47e35cc",
   "metadata": {
    "scrolled": true
   },
   "outputs": [
    {
     "ename": "RuntimeError",
     "evalue": "torch.cat(): Sizes of tensors must match except in dimension 0. Got 90 and 89 in dimension 3 (The offending index is 11)",
     "output_type": "error",
     "traceback": [
      "\u001b[0;31m---------------------------------------------------------------------------\u001b[0m",
      "\u001b[0;31mRuntimeError\u001b[0m                              Traceback (most recent call last)",
      "\u001b[0;32m<ipython-input-21-9b17f2372d60>\u001b[0m in \u001b[0;36m<module>\u001b[0;34m\u001b[0m\n\u001b[1;32m      4\u001b[0m     \u001b[0mpath\u001b[0m \u001b[0;34m=\u001b[0m \u001b[0mglob\u001b[0m\u001b[0;34m(\u001b[0m\u001b[0mdr\u001b[0m\u001b[0;34m+\u001b[0m\u001b[0;34m'checkpoints/*.ckpt'\u001b[0m\u001b[0;34m)\u001b[0m\u001b[0;34m\u001b[0m\u001b[0;34m\u001b[0m\u001b[0m\n\u001b[1;32m      5\u001b[0m     \u001b[0mload_tft\u001b[0m \u001b[0;34m=\u001b[0m \u001b[0mTemporalFusionTransformer\u001b[0m\u001b[0;34m.\u001b[0m\u001b[0mload_from_checkpoint\u001b[0m\u001b[0;34m(\u001b[0m\u001b[0mpath\u001b[0m\u001b[0;34m[\u001b[0m\u001b[0;36m0\u001b[0m\u001b[0;34m]\u001b[0m\u001b[0;34m)\u001b[0m\u001b[0;34m\u001b[0m\u001b[0;34m\u001b[0m\u001b[0m\n\u001b[0;32m----> 6\u001b[0;31m     \u001b[0mpred\u001b[0m \u001b[0;34m=\u001b[0m \u001b[0mload_tft\u001b[0m\u001b[0;34m.\u001b[0m\u001b[0mpredict\u001b[0m\u001b[0;34m(\u001b[0m\u001b[0mdataloader\u001b[0m\u001b[0;34m,\u001b[0m \u001b[0mmode\u001b[0m\u001b[0;34m=\u001b[0m\u001b[0;34m\"raw\"\u001b[0m\u001b[0;34m)\u001b[0m\u001b[0;34m\u001b[0m\u001b[0;34m\u001b[0m\u001b[0m\n\u001b[0m\u001b[1;32m      7\u001b[0m     \u001b[0minterpretation\u001b[0m \u001b[0;34m=\u001b[0m \u001b[0mload_tft\u001b[0m\u001b[0;34m.\u001b[0m\u001b[0minterpret_output\u001b[0m\u001b[0;34m(\u001b[0m\u001b[0mpred\u001b[0m\u001b[0;34m,\u001b[0m \u001b[0mreduction\u001b[0m\u001b[0;34m=\u001b[0m\u001b[0;34m\"sum\"\u001b[0m\u001b[0;34m)\u001b[0m\u001b[0;34m\u001b[0m\u001b[0;34m\u001b[0m\u001b[0m\n\u001b[1;32m      8\u001b[0m     \u001b[0mfigures\u001b[0m \u001b[0;34m=\u001b[0m \u001b[0mload_tft\u001b[0m\u001b[0;34m.\u001b[0m\u001b[0mplot_interpretation\u001b[0m\u001b[0;34m(\u001b[0m\u001b[0minterpretation\u001b[0m\u001b[0;34m)\u001b[0m\u001b[0;34m\u001b[0m\u001b[0;34m\u001b[0m\u001b[0m\n",
      "\u001b[0;32m/opt/anaconda3/envs/pytorch_forecasting/lib/python3.8/site-packages/pytorch_forecasting/models/base_model.py\u001b[0m in \u001b[0;36mpredict\u001b[0;34m(self, data, mode, return_index, return_decoder_lengths, batch_size, num_workers, fast_dev_run, show_progress_bar, return_x, mode_kwargs, **kwargs)\u001b[0m\n\u001b[1;32m   1116\u001b[0m                 \u001b[0moutput\u001b[0m \u001b[0;34m=\u001b[0m \u001b[0m_torch_cat_na\u001b[0m\u001b[0;34m(\u001b[0m\u001b[0moutput\u001b[0m\u001b[0;34m)\u001b[0m\u001b[0;34m\u001b[0m\u001b[0;34m\u001b[0m\u001b[0m\n\u001b[1;32m   1117\u001b[0m         \u001b[0;32melif\u001b[0m \u001b[0mmode\u001b[0m \u001b[0;34m==\u001b[0m \u001b[0;34m\"raw\"\u001b[0m\u001b[0;34m:\u001b[0m\u001b[0;34m\u001b[0m\u001b[0;34m\u001b[0m\u001b[0m\n\u001b[0;32m-> 1118\u001b[0;31m             \u001b[0moutput\u001b[0m \u001b[0;34m=\u001b[0m \u001b[0m_concatenate_output\u001b[0m\u001b[0;34m(\u001b[0m\u001b[0moutput\u001b[0m\u001b[0;34m)\u001b[0m\u001b[0;34m\u001b[0m\u001b[0;34m\u001b[0m\u001b[0m\n\u001b[0m\u001b[1;32m   1119\u001b[0m \u001b[0;34m\u001b[0m\u001b[0m\n\u001b[1;32m   1120\u001b[0m         \u001b[0;31m# generate output\u001b[0m\u001b[0;34m\u001b[0m\u001b[0;34m\u001b[0m\u001b[0;34m\u001b[0m\u001b[0m\n",
      "\u001b[0;32m/opt/anaconda3/envs/pytorch_forecasting/lib/python3.8/site-packages/pytorch_forecasting/models/base_model.py\u001b[0m in \u001b[0;36m_concatenate_output\u001b[0;34m(output)\u001b[0m\n\u001b[1;32m     92\u001b[0m         \u001b[0;31m# concatenate simple tensors\u001b[0m\u001b[0;34m\u001b[0m\u001b[0;34m\u001b[0m\u001b[0;34m\u001b[0m\u001b[0m\n\u001b[1;32m     93\u001b[0m         \u001b[0;32mif\u001b[0m \u001b[0misinstance\u001b[0m\u001b[0;34m(\u001b[0m\u001b[0mv0\u001b[0m\u001b[0;34m,\u001b[0m \u001b[0mtorch\u001b[0m\u001b[0;34m.\u001b[0m\u001b[0mTensor\u001b[0m\u001b[0;34m)\u001b[0m\u001b[0;34m:\u001b[0m\u001b[0;34m\u001b[0m\u001b[0;34m\u001b[0m\u001b[0m\n\u001b[0;32m---> 94\u001b[0;31m             \u001b[0moutput_cat\u001b[0m\u001b[0;34m[\u001b[0m\u001b[0mname\u001b[0m\u001b[0;34m]\u001b[0m \u001b[0;34m=\u001b[0m \u001b[0m_torch_cat_na\u001b[0m\u001b[0;34m(\u001b[0m\u001b[0;34m[\u001b[0m\u001b[0mout\u001b[0m\u001b[0;34m[\u001b[0m\u001b[0mname\u001b[0m\u001b[0;34m]\u001b[0m \u001b[0;32mfor\u001b[0m \u001b[0mout\u001b[0m \u001b[0;32min\u001b[0m \u001b[0moutput\u001b[0m\u001b[0;34m]\u001b[0m\u001b[0;34m)\u001b[0m\u001b[0;34m\u001b[0m\u001b[0;34m\u001b[0m\u001b[0m\n\u001b[0m\u001b[1;32m     95\u001b[0m         \u001b[0;31m# concatenate list of tensors\u001b[0m\u001b[0;34m\u001b[0m\u001b[0;34m\u001b[0m\u001b[0;34m\u001b[0m\u001b[0m\n\u001b[1;32m     96\u001b[0m         \u001b[0;32melif\u001b[0m \u001b[0misinstance\u001b[0m\u001b[0;34m(\u001b[0m\u001b[0mv0\u001b[0m\u001b[0;34m,\u001b[0m \u001b[0;34m(\u001b[0m\u001b[0mtuple\u001b[0m\u001b[0;34m,\u001b[0m \u001b[0mlist\u001b[0m\u001b[0;34m)\u001b[0m\u001b[0;34m)\u001b[0m \u001b[0;32mand\u001b[0m \u001b[0mlen\u001b[0m\u001b[0;34m(\u001b[0m\u001b[0mv0\u001b[0m\u001b[0;34m)\u001b[0m \u001b[0;34m>\u001b[0m \u001b[0;36m0\u001b[0m\u001b[0;34m:\u001b[0m\u001b[0;34m\u001b[0m\u001b[0;34m\u001b[0m\u001b[0m\n",
      "\u001b[0;32m/opt/anaconda3/envs/pytorch_forecasting/lib/python3.8/site-packages/pytorch_forecasting/models/base_model.py\u001b[0m in \u001b[0;36m_torch_cat_na\u001b[0;34m(x)\u001b[0m\n\u001b[1;32m     70\u001b[0m                 \u001b[0;32mfor\u001b[0m \u001b[0mxi\u001b[0m \u001b[0;32min\u001b[0m \u001b[0mx\u001b[0m\u001b[0;34m\u001b[0m\u001b[0;34m\u001b[0m\u001b[0m\n\u001b[1;32m     71\u001b[0m             ]\n\u001b[0;32m---> 72\u001b[0;31m     \u001b[0;32mreturn\u001b[0m \u001b[0mtorch\u001b[0m\u001b[0;34m.\u001b[0m\u001b[0mcat\u001b[0m\u001b[0;34m(\u001b[0m\u001b[0mx\u001b[0m\u001b[0;34m,\u001b[0m \u001b[0mdim\u001b[0m\u001b[0;34m=\u001b[0m\u001b[0;36m0\u001b[0m\u001b[0;34m)\u001b[0m\u001b[0;34m\u001b[0m\u001b[0;34m\u001b[0m\u001b[0m\n\u001b[0m\u001b[1;32m     73\u001b[0m \u001b[0;34m\u001b[0m\u001b[0m\n\u001b[1;32m     74\u001b[0m \u001b[0;34m\u001b[0m\u001b[0m\n",
      "\u001b[0;31mRuntimeError\u001b[0m: torch.cat(): Sizes of tensors must match except in dimension 0. Got 90 and 89 in dimension 3 (The offending index is 11)"
     ]
    }
   ],
   "source": [
    "for dr in dirs[-2:-1]:\n",
    "    path = glob(dr+'checkpoints/*.ckpt')\n",
    "    load_tft = TemporalFusionTransformer.load_from_checkpoint(path[0])\n",
    "    pred = load_tft.predict(dataloader, mode=\"raw\")\n",
    "    interpretation = load_tft.interpret_output(pred, reduction=\"sum\")\n",
    "    figures = load_tft.plot_interpretation(interpretation)"
   ]
  },
  {
   "cell_type": "code",
   "execution_count": null,
   "id": "6d192107",
   "metadata": {},
   "outputs": [],
   "source": [
    "pred.keys()"
   ]
  },
  {
   "cell_type": "code",
   "execution_count": null,
   "id": "b94e166b",
   "metadata": {},
   "outputs": [],
   "source": [
    "pred['encoder_variables'].shape"
   ]
  },
  {
   "cell_type": "code",
   "execution_count": null,
   "id": "f6a73537",
   "metadata": {},
   "outputs": [],
   "source": [
    "pred['decoder_variables'].shape"
   ]
  },
  {
   "cell_type": "code",
   "execution_count": null,
   "id": "c7c3cc98",
   "metadata": {},
   "outputs": [],
   "source": [
    "pred['static_variables'].shape"
   ]
  },
  {
   "cell_type": "code",
   "execution_count": null,
   "id": "9c2f54b2",
   "metadata": {},
   "outputs": [],
   "source": [
    "pred['attention'].shape"
   ]
  },
  {
   "cell_type": "code",
   "execution_count": null,
   "id": "582f63ce",
   "metadata": {},
   "outputs": [],
   "source": [
    "test = pred['attention'][0].clone().detach()"
   ]
  },
  {
   "cell_type": "code",
   "execution_count": null,
   "id": "90e66e20",
   "metadata": {},
   "outputs": [],
   "source": [
    "test.shape"
   ]
  },
  {
   "cell_type": "code",
   "execution_count": null,
   "id": "0ab3504f",
   "metadata": {},
   "outputs": [],
   "source": [
    "a = test.mean(dim=1)"
   ]
  },
  {
   "cell_type": "code",
   "execution_count": null,
   "id": "3f10f755",
   "metadata": {},
   "outputs": [],
   "source": [
    "a.shape"
   ]
  },
  {
   "cell_type": "code",
   "execution_count": null,
   "id": "60935abe",
   "metadata": {},
   "outputs": [],
   "source": [
    "a"
   ]
  },
  {
   "cell_type": "code",
   "execution_count": null,
   "id": "61abde06",
   "metadata": {},
   "outputs": [],
   "source": [
    "a[5].shape"
   ]
  },
  {
   "cell_type": "code",
   "execution_count": null,
   "id": "7eb7f0cc",
   "metadata": {},
   "outputs": [],
   "source": [
    "def plot_persistent_temporal_pattern(attention_matrix, horizon):\n",
    "    attention_matrix = attention_matrix.mean(dim=0)\n",
    "    attention_matrix = attention_matrix.mean(dim=1)\n",
    "    return attention_matrix"
   ]
  },
  {
   "cell_type": "code",
   "execution_count": null,
   "id": "59234c5a",
   "metadata": {},
   "outputs": [],
   "source": [
    "plot_persistent_temporal_pattern"
   ]
  },
  {
   "cell_type": "code",
   "execution_count": 40,
   "id": "bfc9bea7",
   "metadata": {},
   "outputs": [
    {
     "data": {
      "text/plain": [
       "[<matplotlib.lines.Line2D at 0x7fa6133b5d00>]"
      ]
     },
     "execution_count": 40,
     "metadata": {},
     "output_type": "execute_result"
    },
    {
     "data": {
      "image/png": "[encoded data removed]",
      "text/plain": [
       "<Figure size 432x288 with 1 Axes>"
      ]
     },
     "metadata": {
      "needs_background": "light"
     },
     "output_type": "display_data"
    }
   ],
   "source": [
    "plt.plot(b_mean[4])"
   ]
  },
  {
   "cell_type": "code",
   "execution_count": 41,
   "id": "4f835361",
   "metadata": {},
   "outputs": [
    {
     "data": {
      "text/plain": [
       "[<matplotlib.lines.Line2D at 0x7fa6293ef100>]"
      ]
     },
     "execution_count": 41,
     "metadata": {},
     "output_type": "execute_result"
    },
    {
     "data": {
      "image/png": "[encoded data removed]",
      "text/plain": [
       "<Figure size 432x288 with 1 Axes>"
      ]
     },
     "metadata": {
      "needs_background": "light"
     },
     "output_type": "display_data"
    }
   ],
   "source": [
    "plt.plot(b_mean[9])"
   ]
  },
  {
   "cell_type": "code",
   "execution_count": 42,
   "id": "fdc71f9f",
   "metadata": {},
   "outputs": [
    {
     "data": {
      "text/plain": [
       "[<matplotlib.lines.Line2D at 0x7fa6132bbee0>]"
      ]
     },
     "execution_count": 42,
     "metadata": {},
     "output_type": "execute_result"
    },
    {
     "data": {
      "image/png": "[encoded data removed]",
      "text/plain": [
       "<Figure size 432x288 with 1 Axes>"
      ]
     },
     "metadata": {
      "needs_background": "light"
     },
     "output_type": "display_data"
    }
   ],
   "source": [
    "plt.plot(b_mean[14])"
   ]
  },
  {
   "cell_type": "code",
   "execution_count": 43,
   "id": "e73a7e57",
   "metadata": {},
   "outputs": [
    {
     "data": {
      "text/plain": [
       "[<matplotlib.lines.Line2D at 0x7fa61c292be0>]"
      ]
     },
     "execution_count": 43,
     "metadata": {},
     "output_type": "execute_result"
    },
    {
     "data": {
      "image/png": "[encoded data removed]",
      "text/plain": [
       "<Figure size 432x288 with 1 Axes>"
      ]
     },
     "metadata": {
      "needs_background": "light"
     },
     "output_type": "display_data"
    }
   ],
   "source": [
    "plt.plot(b_mean[19])"
   ]
  },
  {
   "cell_type": "code",
   "execution_count": 35,
   "id": "5dc1aa7a",
   "metadata": {},
   "outputs": [],
   "source": [
    "b = pred['attention'].clone().detach()"
   ]
  },
  {
   "cell_type": "code",
   "execution_count": 36,
   "id": "26b3f414",
   "metadata": {},
   "outputs": [],
   "source": [
    "b_mean = b.mean(dim=0)"
   ]
  },
  {
   "cell_type": "code",
   "execution_count": 38,
   "id": "9b94cc2e",
   "metadata": {},
   "outputs": [],
   "source": [
    "b_mean = b_mean.mean(dim=1)"
   ]
  },
  {
   "cell_type": "code",
   "execution_count": 39,
   "id": "83429f39",
   "metadata": {},
   "outputs": [
    {
     "data": {
      "text/plain": [
       "torch.Size([30, 120])"
      ]
     },
     "execution_count": 39,
     "metadata": {},
     "output_type": "execute_result"
    }
   ],
   "source": [
    "b_mean.shape"
   ]
  },
  {
   "cell_type": "code",
   "execution_count": 44,
   "id": "871ad929",
   "metadata": {},
   "outputs": [],
   "source": [
    "c = pred['attention'].clone().detach()"
   ]
  },
  {
   "cell_type": "code",
   "execution_count": 45,
   "id": "3ad95606",
   "metadata": {},
   "outputs": [
    {
     "data": {
      "text/plain": [
       "torch.Size([70, 30, 4, 120])"
      ]
     },
     "execution_count": 45,
     "metadata": {},
     "output_type": "execute_result"
    }
   ],
   "source": [
    "c.shape"
   ]
  },
  {
   "cell_type": "code",
   "execution_count": 46,
   "id": "dd76c024",
   "metadata": {},
   "outputs": [],
   "source": [
    "c_mean = c.mean(dim=2)"
   ]
  },
  {
   "cell_type": "code",
   "execution_count": 47,
   "id": "59bddef3",
   "metadata": {},
   "outputs": [
    {
     "data": {
      "text/plain": [
       "torch.Size([70, 30, 120])"
      ]
     },
     "execution_count": 47,
     "metadata": {},
     "output_type": "execute_result"
    }
   ],
   "source": [
    "c_mean.shape"
   ]
  },
  {
   "cell_type": "code",
   "execution_count": 48,
   "id": "41b3b73b",
   "metadata": {},
   "outputs": [],
   "source": [
    "d = c_mean[:,0,:]"
   ]
  },
  {
   "cell_type": "code",
   "execution_count": 49,
   "id": "df161aac",
   "metadata": {},
   "outputs": [
    {
     "data": {
      "text/plain": [
       "torch.Size([70, 120])"
      ]
     },
     "execution_count": 49,
     "metadata": {},
     "output_type": "execute_result"
    }
   ],
   "source": [
    "d.shape"
   ]
  },
  {
   "cell_type": "code",
   "execution_count": 85,
   "id": "736035c8",
   "metadata": {},
   "outputs": [
    {
     "data": {
      "text/plain": [
       "0.023939029686152937"
      ]
     },
     "execution_count": 85,
     "metadata": {},
     "output_type": "execute_result"
    }
   ],
   "source": [
    "np.percentile(d[:,0], 90)"
   ]
  },
  {
   "cell_type": "code",
   "execution_count": 86,
   "id": "b7abd211",
   "metadata": {},
   "outputs": [
    {
     "data": {
      "text/plain": [
       "0.015122189652174711"
      ]
     },
     "execution_count": 86,
     "metadata": {},
     "output_type": "execute_result"
    }
   ],
   "source": [
    "np.percentile(d[:,0], 50)"
   ]
  },
  {
   "cell_type": "code",
   "execution_count": 87,
   "id": "f81f527a",
   "metadata": {},
   "outputs": [
    {
     "data": {
      "text/plain": [
       "0.007428180798888207"
      ]
     },
     "execution_count": 87,
     "metadata": {},
     "output_type": "execute_result"
    }
   ],
   "source": [
    "np.percentile(d[:,0], 10)"
   ]
  },
  {
   "cell_type": "code",
   "execution_count": 103,
   "id": "c99b2507",
   "metadata": {},
   "outputs": [],
   "source": [
    "q_10 = []\n",
    "q_50 = []\n",
    "q_90 = []\n",
    "\n",
    "for i in range(120):\n",
    "    q_10.append(np.percentile(d[:,i], 10))\n",
    "    q_50.append(np.percentile(d[:,i], 50))\n",
    "    q_90.append(np.percentile(d[:,i], 90))"
   ]
  },
  {
   "cell_type": "code",
   "execution_count": 96,
   "id": "cf55c450",
   "metadata": {},
   "outputs": [
    {
     "data": {
      "text/plain": [
       "[<matplotlib.lines.Line2D at 0x7fa6298bf310>]"
      ]
     },
     "execution_count": 96,
     "metadata": {},
     "output_type": "execute_result"
    },
    {
     "data": {
      "image/png": "[encoded data removed]",
      "text/plain": [
       "<Figure size 432x288 with 1 Axes>"
      ]
     },
     "metadata": {
      "needs_background": "light"
     },
     "output_type": "display_data"
    }
   ],
   "source": [
    "plt.plot(q_10)"
   ]
  },
  {
   "cell_type": "code",
   "execution_count": 97,
   "id": "04de8cd4",
   "metadata": {},
   "outputs": [
    {
     "data": {
      "text/plain": [
       "[<matplotlib.lines.Line2D at 0x7fa629739580>]"
      ]
     },
     "execution_count": 97,
     "metadata": {},
     "output_type": "execute_result"
    },
    {
     "data": {
      "image/png": "[encoded data removed]",
      "text/plain": [
       "<Figure size 432x288 with 1 Axes>"
      ]
     },
     "metadata": {
      "needs_background": "light"
     },
     "output_type": "display_data"
    }
   ],
   "source": [
    "plt.plot(q_50)"
   ]
  },
  {
   "cell_type": "code",
   "execution_count": 98,
   "id": "5c32e35e",
   "metadata": {},
   "outputs": [
    {
     "data": {
      "text/plain": [
       "[<matplotlib.lines.Line2D at 0x7fa6131d1f70>]"
      ]
     },
     "execution_count": 98,
     "metadata": {},
     "output_type": "execute_result"
    },
    {
     "data": {
      "image/png": "[encoded data removed]",
      "text/plain": [
       "<Figure size 432x288 with 1 Axes>"
      ]
     },
     "metadata": {
      "needs_background": "light"
     },
     "output_type": "display_data"
    }
   ],
   "source": [
    "plt.plot(q_90)"
   ]
  },
  {
   "cell_type": "code",
   "execution_count": 20,
   "id": "2a0741c9",
   "metadata": {},
   "outputs": [],
   "source": [
    "dataloader = test_dataset.to_dataloader(train=False, batch_size=128, num_workers=8, shuffle=True)"
   ]
  },
  {
   "cell_type": "code",
   "execution_count": 22,
   "id": "86f31b8f",
   "metadata": {},
   "outputs": [
    {
     "ename": "RuntimeError",
     "evalue": "torch.cat(): Sizes of tensors must match except in dimension 0. Got 90 and 89 in dimension 3 (The offending index is 3)",
     "output_type": "error",
     "traceback": [
      "\u001b[0;31m---------------------------------------------------------------------------\u001b[0m",
      "\u001b[0;31mRuntimeError\u001b[0m                              Traceback (most recent call last)",
      "\u001b[0;32m<ipython-input-22-5b1ce4cfb91c>\u001b[0m in \u001b[0;36m<module>\u001b[0;34m\u001b[0m\n\u001b[0;32m----> 1\u001b[0;31m \u001b[0mpred\u001b[0m \u001b[0;34m=\u001b[0m \u001b[0mload_tft\u001b[0m\u001b[0;34m.\u001b[0m\u001b[0mpredict\u001b[0m\u001b[0;34m(\u001b[0m\u001b[0mdataloader\u001b[0m\u001b[0;34m,\u001b[0m \u001b[0mmode\u001b[0m\u001b[0;34m=\u001b[0m\u001b[0;34m\"raw\"\u001b[0m\u001b[0;34m)\u001b[0m\u001b[0;34m\u001b[0m\u001b[0;34m\u001b[0m\u001b[0m\n\u001b[0m",
      "\u001b[0;32m/opt/anaconda3/envs/pytorch_forecasting/lib/python3.8/site-packages/pytorch_forecasting/models/base_model.py\u001b[0m in \u001b[0;36mpredict\u001b[0;34m(self, data, mode, return_index, return_decoder_lengths, batch_size, num_workers, fast_dev_run, show_progress_bar, return_x, mode_kwargs, **kwargs)\u001b[0m\n\u001b[1;32m   1116\u001b[0m                 \u001b[0moutput\u001b[0m \u001b[0;34m=\u001b[0m \u001b[0m_torch_cat_na\u001b[0m\u001b[0;34m(\u001b[0m\u001b[0moutput\u001b[0m\u001b[0;34m)\u001b[0m\u001b[0;34m\u001b[0m\u001b[0;34m\u001b[0m\u001b[0m\n\u001b[1;32m   1117\u001b[0m         \u001b[0;32melif\u001b[0m \u001b[0mmode\u001b[0m \u001b[0;34m==\u001b[0m \u001b[0;34m\"raw\"\u001b[0m\u001b[0;34m:\u001b[0m\u001b[0;34m\u001b[0m\u001b[0;34m\u001b[0m\u001b[0m\n\u001b[0;32m-> 1118\u001b[0;31m             \u001b[0moutput\u001b[0m \u001b[0;34m=\u001b[0m \u001b[0m_concatenate_output\u001b[0m\u001b[0;34m(\u001b[0m\u001b[0moutput\u001b[0m\u001b[0;34m)\u001b[0m\u001b[0;34m\u001b[0m\u001b[0;34m\u001b[0m\u001b[0m\n\u001b[0m\u001b[1;32m   1119\u001b[0m \u001b[0;34m\u001b[0m\u001b[0m\n\u001b[1;32m   1120\u001b[0m         \u001b[0;31m# generate output\u001b[0m\u001b[0;34m\u001b[0m\u001b[0;34m\u001b[0m\u001b[0;34m\u001b[0m\u001b[0m\n",
      "\u001b[0;32m/opt/anaconda3/envs/pytorch_forecasting/lib/python3.8/site-packages/pytorch_forecasting/models/base_model.py\u001b[0m in \u001b[0;36m_concatenate_output\u001b[0;34m(output)\u001b[0m\n\u001b[1;32m     92\u001b[0m         \u001b[0;31m# concatenate simple tensors\u001b[0m\u001b[0;34m\u001b[0m\u001b[0;34m\u001b[0m\u001b[0;34m\u001b[0m\u001b[0m\n\u001b[1;32m     93\u001b[0m         \u001b[0;32mif\u001b[0m \u001b[0misinstance\u001b[0m\u001b[0;34m(\u001b[0m\u001b[0mv0\u001b[0m\u001b[0;34m,\u001b[0m \u001b[0mtorch\u001b[0m\u001b[0;34m.\u001b[0m\u001b[0mTensor\u001b[0m\u001b[0;34m)\u001b[0m\u001b[0;34m:\u001b[0m\u001b[0;34m\u001b[0m\u001b[0;34m\u001b[0m\u001b[0m\n\u001b[0;32m---> 94\u001b[0;31m             \u001b[0moutput_cat\u001b[0m\u001b[0;34m[\u001b[0m\u001b[0mname\u001b[0m\u001b[0;34m]\u001b[0m \u001b[0;34m=\u001b[0m \u001b[0m_torch_cat_na\u001b[0m\u001b[0;34m(\u001b[0m\u001b[0;34m[\u001b[0m\u001b[0mout\u001b[0m\u001b[0;34m[\u001b[0m\u001b[0mname\u001b[0m\u001b[0;34m]\u001b[0m \u001b[0;32mfor\u001b[0m \u001b[0mout\u001b[0m \u001b[0;32min\u001b[0m \u001b[0moutput\u001b[0m\u001b[0;34m]\u001b[0m\u001b[0;34m)\u001b[0m\u001b[0;34m\u001b[0m\u001b[0;34m\u001b[0m\u001b[0m\n\u001b[0m\u001b[1;32m     95\u001b[0m         \u001b[0;31m# concatenate list of tensors\u001b[0m\u001b[0;34m\u001b[0m\u001b[0;34m\u001b[0m\u001b[0;34m\u001b[0m\u001b[0m\n\u001b[1;32m     96\u001b[0m         \u001b[0;32melif\u001b[0m \u001b[0misinstance\u001b[0m\u001b[0;34m(\u001b[0m\u001b[0mv0\u001b[0m\u001b[0;34m,\u001b[0m \u001b[0;34m(\u001b[0m\u001b[0mtuple\u001b[0m\u001b[0;34m,\u001b[0m \u001b[0mlist\u001b[0m\u001b[0;34m)\u001b[0m\u001b[0;34m)\u001b[0m \u001b[0;32mand\u001b[0m \u001b[0mlen\u001b[0m\u001b[0;34m(\u001b[0m\u001b[0mv0\u001b[0m\u001b[0;34m)\u001b[0m \u001b[0;34m>\u001b[0m \u001b[0;36m0\u001b[0m\u001b[0;34m:\u001b[0m\u001b[0;34m\u001b[0m\u001b[0;34m\u001b[0m\u001b[0m\n",
      "\u001b[0;32m/opt/anaconda3/envs/pytorch_forecasting/lib/python3.8/site-packages/pytorch_forecasting/models/base_model.py\u001b[0m in \u001b[0;36m_torch_cat_na\u001b[0;34m(x)\u001b[0m\n\u001b[1;32m     70\u001b[0m                 \u001b[0;32mfor\u001b[0m \u001b[0mxi\u001b[0m \u001b[0;32min\u001b[0m \u001b[0mx\u001b[0m\u001b[0;34m\u001b[0m\u001b[0;34m\u001b[0m\u001b[0m\n\u001b[1;32m     71\u001b[0m             ]\n\u001b[0;32m---> 72\u001b[0;31m     \u001b[0;32mreturn\u001b[0m \u001b[0mtorch\u001b[0m\u001b[0;34m.\u001b[0m\u001b[0mcat\u001b[0m\u001b[0;34m(\u001b[0m\u001b[0mx\u001b[0m\u001b[0;34m,\u001b[0m \u001b[0mdim\u001b[0m\u001b[0;34m=\u001b[0m\u001b[0;36m0\u001b[0m\u001b[0;34m)\u001b[0m\u001b[0;34m\u001b[0m\u001b[0;34m\u001b[0m\u001b[0m\n\u001b[0m\u001b[1;32m     73\u001b[0m \u001b[0;34m\u001b[0m\u001b[0m\n\u001b[1;32m     74\u001b[0m \u001b[0;34m\u001b[0m\u001b[0m\n",
      "\u001b[0;31mRuntimeError\u001b[0m: torch.cat(): Sizes of tensors must match except in dimension 0. Got 90 and 89 in dimension 3 (The offending index is 3)"
     ]
    }
   ],
   "source": [
    "pred = load_tft.predict(dataloader, mode=\"raw\")"
   ]
  },
  {
   "cell_type": "code",
   "execution_count": 109,
   "id": "3d4c39a3",
   "metadata": {},
   "outputs": [
    {
     "data": {
      "text/plain": [
       "torch.Size([133700, 30, 4, 120])"
      ]
     },
     "execution_count": 109,
     "metadata": {},
     "output_type": "execute_result"
    }
   ],
   "source": [
    "pred['attention'].shape"
   ]
  },
  {
   "cell_type": "code",
   "execution_count": 110,
   "id": "0a43e8b5",
   "metadata": {},
   "outputs": [],
   "source": [
    "k_pq = pred['attention'].clone().detach()"
   ]
  },
  {
   "cell_type": "code",
   "execution_count": 111,
   "id": "9b58b923",
   "metadata": {},
   "outputs": [],
   "source": [
    "k_pq = k_pq.mean(dim=2)"
   ]
  },
  {
   "cell_type": "code",
   "execution_count": 112,
   "id": "7057abd3",
   "metadata": {},
   "outputs": [],
   "source": [
    "k_pq = k_pq.mean(dim=0)"
   ]
  },
  {
   "cell_type": "code",
   "execution_count": 113,
   "id": "057e6215",
   "metadata": {},
   "outputs": [
    {
     "data": {
      "text/plain": [
       "torch.Size([30, 120])"
      ]
     },
     "execution_count": 113,
     "metadata": {},
     "output_type": "execute_result"
    }
   ],
   "source": [
    "k_pq.shape"
   ]
  },
  {
   "cell_type": "code",
   "execution_count": 114,
   "id": "b4166dac",
   "metadata": {},
   "outputs": [
    {
     "data": {
      "text/plain": [
       "tensor([[0.0131, 0.0124, 0.0116,  ..., 0.0000, 0.0000, 0.0000],\n",
       "        [0.0128, 0.0122, 0.0113,  ..., 0.0000, 0.0000, 0.0000],\n",
       "        [0.0125, 0.0119, 0.0110,  ..., 0.0000, 0.0000, 0.0000],\n",
       "        ...,\n",
       "        [0.0087, 0.0082, 0.0078,  ..., 0.0000, 0.0000, 0.0000],\n",
       "        [0.0086, 0.0081, 0.0077,  ..., 0.0139, 0.0000, 0.0000],\n",
       "        [0.0084, 0.0080, 0.0075,  ..., 0.0135, 0.0136, 0.0000]])"
      ]
     },
     "execution_count": 114,
     "metadata": {},
     "output_type": "execute_result"
    }
   ],
   "source": [
    "k_pq"
   ]
  },
  {
   "cell_type": "code",
   "execution_count": 115,
   "id": "9105649d",
   "metadata": {},
   "outputs": [
    {
     "data": {
      "text/plain": [
       "1910.0"
      ]
     },
     "execution_count": 115,
     "metadata": {},
     "output_type": "execute_result"
    }
   ],
   "source": [
    "133700/70"
   ]
  },
  {
   "cell_type": "code",
   "execution_count": null,
   "id": "ee9e9c32",
   "metadata": {},
   "outputs": [],
   "source": []
  }
 ],
 "metadata": {
  "kernelspec": {
   "display_name": "Python 3",
   "language": "python",
   "name": "python3"
  },
  "language_info": {
   "codemirror_mode": {
    "name": "ipython",
    "version": 3
   },
   "file_extension": ".py",
   "mimetype": "text/x-python",
   "name": "python",
   "nbconvert_exporter": "python",
   "pygments_lexer": "ipython3",
   "version": "3.8.10"
  }
 },
 "nbformat": 4,
 "nbformat_minor": 5
}
