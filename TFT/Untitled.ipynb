{
 "cells": [
  {
   "cell_type": "code",
   "execution_count": 1,
   "id": "d650c888",
   "metadata": {},
   "outputs": [],
   "source": [
    "import sys\n",
    "\n",
    "sys.path.append('./')"
   ]
  },
  {
   "cell_type": "code",
   "execution_count": 2,
   "id": "0b117999",
   "metadata": {},
   "outputs": [],
   "source": [
    "import numpy as np\n",
    "import pandas as pd\n",
    "from torch.utils.data import DataLoader,Dataset, Subset\n",
    "\n",
    "import torch.optim as optim\n",
    "\n",
    "from data_formatters import ts_dataset, base \n",
    "from utils import utils\n",
    "from utils import exp_settings\n",
    "from utils import loss"
   ]
  },
  {
   "cell_type": "code",
   "execution_count": 10,
   "id": "45957371",
   "metadata": {},
   "outputs": [],
   "source": [
    "pd.set_option('max_columns', 1000)"
   ]
  },
  {
   "cell_type": "code",
   "execution_count": 12,
   "id": "af43f98a",
   "metadata": {},
   "outputs": [],
   "source": [
    "ExperimentConfig = exp_settings.ExperimentConfig"
   ]
  },
  {
   "cell_type": "code",
   "execution_count": 13,
   "id": "5f385492",
   "metadata": {},
   "outputs": [],
   "source": [
    "config = ExperimentConfig('favorita', 'outputs')\n",
    "data_formatter = config.make_data_formatter()"
   ]
  },
  {
   "cell_type": "code",
   "execution_count": null,
   "id": "638f9a7f",
   "metadata": {},
   "outputs": [],
   "source": [
    "print(\"*** Training from defined parameters for {} ***\".format('favorita'))\n",
    "data_csv_path = 'data/hourly_electricity.csv'\n",
    "print(\"Loading & splitting data...\")\n",
    "raw_data = pd.read_csv(data_csv_path, index_col=0)\n",
    "train, valid, test = data_formatter.split_data(raw_data)\n",
    "train_samples, valid_samples = data_formatter.get_num_samples_for_calibration(\n",
    ")\n",
    "\n",
    "# Sets up default params\n",
    "fixed_params = data_formatter.get_experiment_params()\n",
    "params = data_formatter.get_default_model_params()"
   ]
  },
  {
   "cell_type": "code",
   "execution_count": null,
   "id": "d49c44e9",
   "metadata": {},
   "outputs": [],
   "source": []
  }
 ],
 "metadata": {
  "kernelspec": {
   "display_name": "Python 3",
   "language": "python",
   "name": "python3"
  },
  "language_info": {
   "codemirror_mode": {
    "name": "ipython",
    "version": 3
   },
   "file_extension": ".py",
   "mimetype": "text/x-python",
   "name": "python",
   "nbconvert_exporter": "python",
   "pygments_lexer": "ipython3",
   "version": "3.8.10"
  }
 },
 "nbformat": 4,
 "nbformat_minor": 5
}
